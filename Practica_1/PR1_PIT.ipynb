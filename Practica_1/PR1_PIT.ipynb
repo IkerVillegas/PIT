{
  "nbformat": 4,
  "nbformat_minor": 0,
  "metadata": {
    "colab": {
      "provenance": []
    },
    "kernelspec": {
      "name": "python3",
      "display_name": "Python 3"
    },
    "language_info": {
      "name": "python"
    }
  },
  "cells": [
    {
      "cell_type": "markdown",
      "source": [
        "# PIT - Práctica 1: Análisis de Series Temporales - Modelos Clásicos\n",
        "\n",
        "**Alicia Lozano Díez**\n",
        " \n",
        "13 de febrero de 2023\n"
      ],
      "metadata": {
        "id": "40kkHJmJ4mpb"
      }
    },
    {
      "cell_type": "markdown",
      "source": [
        "## Objetivo\n",
        "\n",
        "El objetivo de esta práctica es proporcionar una introducción al procesamiento y análisis de señales temporales: descomposición de una serie temporal para el estudio de sus propiedades, ajuste de modelos lineales (ARIMA) y predicción.\n",
        "\n",
        "### Materiales - Moodle\n",
        "\n",
        "- Guión (.ipynb) de la práctica\n",
        "- Datos (.csv): bases de datos _AirPassengers.csv_ y _stocks_1yr.csv_.\n"
      ],
      "metadata": {
        "id": "hRpw9uuH43MM"
      }
    },
    {
      "cell_type": "markdown",
      "source": [
        "# 1. Introducción al procesamiento de señales temporales: Air Passengers\n",
        "\n",
        "## 1.1. Cargar los datos en Google Colab y manejo de los datos en Python\n",
        "\n",
        "Primero vamos a descargar el fichero con los datos de la base de datos *AirPassengers.csv* de Moodle, que contiene los datos del número de pasajeros de una aerolínea para un periodo de tiempo.\n",
        "\n",
        "Las siguientes líneas de código nos permitirán subir el archivo a Google Colab desde el disco local:"
      ],
      "metadata": {
        "id": "-O_kb8rBzduX"
      }
    },
    {
      "cell_type": "code",
      "source": [
        "from google.colab import files\n",
        "uploaded = files.upload()"
      ],
      "metadata": {
        "id": "hYhsHI2o1_jJ"
      },
      "execution_count": null,
      "outputs": []
    },
    {
      "cell_type": "markdown",
      "source": [
        "A continuación, vamos a leer el fichero *AirPassengers.csv* en Python, con la ayuda de la librería *pandas*.\n",
        "\n",
        "Lo cargaremos haciendo uso también del módulo de Python *datetime* para operar con este tipo de datos de forma cómoda.\n",
        "\n",
        "La función definida *parser* nos permitirá cambiar el formato de fecha/tiempo al formato que esperamos encontrar en nuestra base de datos."
      ],
      "metadata": {
        "id": "6qFB0j3d63vp"
      }
    },
    {
      "cell_type": "code",
      "execution_count": null,
      "metadata": {
        "id": "9tW0rZV218Vo"
      },
      "outputs": [],
      "source": [
        "from pandas import read_csv\n",
        "from datetime import datetime\n",
        " \n",
        "def parser(x):\n",
        "\treturn datetime.strptime(x, '%Y-%m')\n",
        " \n",
        "data = read_csv('AirPassengers.csv', header=0, parse_dates=[0], index_col=0, \n",
        "                squeeze=True, date_parser=parser)\n",
        "print(data.head())"
      ]
    },
    {
      "cell_type": "markdown",
      "source": [
        "Podemos visualizar cómo está indexada la estructura de datos, así como el número de datos que tiene nuestra serie temporal."
      ],
      "metadata": {
        "id": "SH1nnQV-9S4v"
      }
    },
    {
      "cell_type": "code",
      "source": [
        "data.index\n"
      ],
      "metadata": {
        "id": "UWjaZePc34cy"
      },
      "execution_count": null,
      "outputs": []
    },
    {
      "cell_type": "markdown",
      "source": [
        "Si queremos acceder a un dato en concreto, por ejemplo, el número de pasajeros del mes de marzo de 1949, podemos hacerlo de la siguiente forma:"
      ],
      "metadata": {
        "id": "kWN6U-Mo9nEg"
      }
    },
    {
      "cell_type": "code",
      "source": [
        "data['1949-03-01']\n"
      ],
      "metadata": {
        "id": "_wSHZc3kRF6s"
      },
      "execution_count": null,
      "outputs": []
    },
    {
      "cell_type": "markdown",
      "source": [
        "O de esta otra:"
      ],
      "metadata": {
        "id": "fOAx7k3898Za"
      }
    },
    {
      "cell_type": "code",
      "source": [
        "data[datetime(1949,3,1)]"
      ],
      "metadata": {
        "id": "7R7MV5Fa9-Rv"
      },
      "execution_count": null,
      "outputs": []
    },
    {
      "cell_type": "markdown",
      "source": [
        "## 1.2. Representación de los datos\n"
      ],
      "metadata": {
        "id": "5J8904Oh-JwT"
      }
    },
    {
      "cell_type": "markdown",
      "source": [
        "El primer paso para analizar una serie temporal es obtener una representación de los datos, para poder hacernos una idea de las características de la serie de forma visual. \n",
        "\n",
        "Para ello, podemos utilizar la librería *matplotlib* como sigue:"
      ],
      "metadata": {
        "id": "1Vyb07C0-Zi3"
      }
    },
    {
      "cell_type": "code",
      "source": [
        "from matplotlib import pyplot as plt\n",
        "plt.plot(data)\n",
        "plt.title('Serie temporal: Air Passengers')"
      ],
      "metadata": {
        "id": "EOINDsoDzqFy"
      },
      "execution_count": null,
      "outputs": []
    },
    {
      "cell_type": "markdown",
      "source": [
        "## 1.3. Estudio de la estacionariedad de la serie\n"
      ],
      "metadata": {
        "id": "EZGc2aVa_JKt"
      }
    },
    {
      "cell_type": "markdown",
      "source": [
        "Algunos de los modelos de análisis de series temporales asumen estacionariedad en las series. Por ello, vamos a ver dos métodos para comprobar si una serie es estacionaria."
      ],
      "metadata": {
        "id": "VUy5F7jh9kKk"
      }
    },
    {
      "cell_type": "markdown",
      "source": [
        "Uno de ellos es un análisis más visual: calculamos la media y desviación estándar \"móviles\" (con una ventana deslizante). "
      ],
      "metadata": {
        "id": "VQP15sbNQ8cR"
      }
    },
    {
      "cell_type": "code",
      "source": [
        "import pandas as pd\n",
        "\n",
        "def test_stationarity_1(timeseries,window_size):\n",
        "    #Determing rolling statistics\n",
        "    rolmean = timeseries.rolling(window=window_size).mean()\n",
        "    rolstd = timeseries.rolling(window=window_size).std()\n",
        "\n",
        "    #Plot rolling statistics:\n",
        "    orig = plt.plot(timeseries, color='blue',label='Original')\n",
        "    mean = plt.plot(rolmean, color='red', label='Rolling Mean')\n",
        "    std = plt.plot(rolstd, color='black', label = 'Rolling Std')\n",
        "    plt.legend(loc='best')\n",
        "    plt.title('Rolling Mean & Standard Deviation')\n",
        "    plt.show(block=False)"
      ],
      "metadata": {
        "id": "YhUGGcQT9jka"
      },
      "execution_count": null,
      "outputs": []
    },
    {
      "cell_type": "markdown",
      "source": [
        "El segundo método consiste en el test estadístico Dickey-Fuller:"
      ],
      "metadata": {
        "id": "UqHxQv1wRflg"
      }
    },
    {
      "cell_type": "code",
      "source": [
        "import pandas as pd\n",
        "\n",
        "from statsmodels.tsa.stattools import adfuller\n",
        "def test_stationarity_2(timeseries):    \n",
        "    #Perform Dickey-Fuller test:\n",
        "    print('Results of Dickey-Fuller Test:')\n",
        "    dftest = adfuller(timeseries, autolag='AIC')\n",
        "    dfoutput = pd.Series(dftest[0:4], index=['Test Statistic','p-value','#Lags Used','Number of Observations Used'])\n",
        "    for key,value in dftest[4].items():\n",
        "        dfoutput['Critical Value (%s)'%key] = value\n",
        "    print(dfoutput)"
      ],
      "metadata": {
        "id": "7aULcq-Uz5Dn"
      },
      "execution_count": null,
      "outputs": []
    },
    {
      "cell_type": "code",
      "source": [
        "def test_stationarity(timeseries,window_size):\n",
        "  test_stationarity_1(timeseries,window_size)\n",
        "  test_stationarity_2(timeseries)"
      ],
      "metadata": {
        "id": "mhCoqGGwTIUN"
      },
      "execution_count": null,
      "outputs": []
    },
    {
      "cell_type": "code",
      "source": [
        "test_stationarity(data,12)"
      ],
      "metadata": {
        "colab": {
          "base_uri": "https://localhost:8080/",
          "height": 437
        },
        "id": "D3BDhaHZTV9y",
        "outputId": "5172b624-c9ef-4396-8413-db5e843dff86"
      },
      "execution_count": null,
      "outputs": [
        {
          "output_type": "display_data",
          "data": {
            "image/png": "[encoded data removed]",
            "text/plain": [
              "<Figure size 432x288 with 1 Axes>"
            ]
          },
          "metadata": {
            "needs_background": "light"
          }
        },
        {
          "output_type": "stream",
          "name": "stdout",
          "text": [
            "Results of Dickey-Fuller Test:\n",
            "Test Statistic                   0.815369\n",
            "p-value                          0.991880\n",
            "#Lags Used                      13.000000\n",
            "Number of Observations Used    130.000000\n",
            "Critical Value (1%)             -3.481682\n",
            "Critical Value (5%)             -2.884042\n",
            "Critical Value (10%)            -2.578770\n",
            "dtype: float64\n"
          ]
        }
      ]
    },
    {
      "cell_type": "markdown",
      "source": [
        "**PREGUNTAS**\n",
        "\n",
        "1.   ¿Qué conclusiones puede extraer del análisis de estacionariedad de la serie original?\n",
        "2.   ¿Qué diferencias observas al variar el tamaño de la ventana para hacer las medias móviles? Prueba con un par de tamaños, incluye las gráficas obtenidas y explica las diferencias visuales que aprecias."
      ],
      "metadata": {
        "id": "y0H97CU4SBqp"
      }
    },
    {
      "cell_type": "markdown",
      "source": [
        "## 1.4. Transformar una serie temporal en estacionaria"
      ],
      "metadata": {
        "id": "B17DmAC0BPKg"
      }
    },
    {
      "cell_type": "markdown",
      "source": [
        "Como hemos visto en la teoría, para analizar la serie y poder ajustarle un modelo tipo AR, MA o ARMA, esperamos que la serie a modelar sea estacionaria. \n",
        "\n",
        "Para conseguir una serie lo más estacionaria posible, podemos aplicar distintas transformaciones de la serie original. Vamos a ver algunos ejemplos:"
      ],
      "metadata": {
        "id": "Fwu5COybSjhf"
      }
    },
    {
      "cell_type": "markdown",
      "source": [
        "a) *Transformaciones simples para reducir el efecto de la tendendia*:\n",
        "\n",
        "En el caso de los datos del ejemplo, la tendencia es positiva, por lo que podemos aplicar alguna transformación que penalice los valores más altos y menos los más bajos. Es el caso del logaritmo, la raíz cuadrada, etc. "
      ],
      "metadata": {
        "id": "DJuCAOGEA-qM"
      }
    },
    {
      "cell_type": "markdown",
      "source": [
        "**PREGUNTA**\n",
        "\n",
        "\n",
        "1.   Representa a continuación la serie aplicándole una transformación logarítmica. ¿Qué observas?\n",
        "\n"
      ],
      "metadata": {
        "id": "mXLmOVJnD04N"
      }
    },
    {
      "cell_type": "code",
      "source": [],
      "metadata": {
        "id": "jXYovkQSnnKY"
      },
      "execution_count": null,
      "outputs": []
    },
    {
      "cell_type": "markdown",
      "source": [
        "En casos más complejos en los que la tendencia no se ve clara (sobre todo en presencia de ruido), se pueden aplicar otros métodos. Uno de ellos es el suavizado como las medias móviles (*moving average*). \n",
        "\n",
        "Por ejemplo, podemos aplicar un suavizado con una media con ventana deslizante que tenga en cuenta un año (12 meses). \n",
        "Ten en cuenta, que esto implicará que para calcular la media de las primeras muestras, no tengo suficientes datos para la ventana. Esto lo podemos ver en la salida de la media móvil (tendremos que eliminar los *NaN* que aparecen).\n"
      ],
      "metadata": {
        "id": "xlBZo3k_EgvX"
      }
    },
    {
      "cell_type": "markdown",
      "source": [
        "**PREGUNTAS**\n",
        "\n",
        "\n",
        "1.   Aplica dicha media móvil y represéntala junto a los datos. Puede utilizar los datos en escala logarítmica. ¿Esta media móvil representa claramente la tendencia de la serie?\n",
        "\n",
        "2.   Elimina ahora de la serie original (transformada con el logaritmo si es como la has calculado previamente) la influencia de esta media móvil y representa el resultado. ¿Qué observas ahora?\n",
        "\n",
        "3.   Realiza el test de estacionariedad de la serie resultante y compáralo con el de la serie original. ¿Qué conclusiones puedes obtener tanto del test visual como del test estadístico?\n",
        "\n",
        "\n",
        "\n",
        "\n"
      ],
      "metadata": {
        "id": "x6r2Wm58FfOA"
      }
    },
    {
      "cell_type": "code",
      "source": [],
      "metadata": {
        "id": "GIfRrB-uoHg-"
      },
      "execution_count": null,
      "outputs": []
    },
    {
      "cell_type": "markdown",
      "source": [
        "b) *Diferenciar (derivar)*:\n",
        "\n",
        "Las técnicas anteriores son sencillas y pueden eliminar parte de la influencia de la tendencia de la serie, pero no suelen ser suficientes cuando se tiene por ejemplo estacionalidad. \n",
        "\n",
        "Diferenciar (o derivar) es uno de los métodos más comunes para eliminar la influencia de la tendencia y la estacionalidad en la serie original, mejorando las propiedades de estacionariedad de la serie. \n",
        "\n",
        "Podemos tomar la derivada de orden uno de la siguiente manera (partimos de la serie en el dominio logarítmico): "
      ],
      "metadata": {
        "id": "bnEGLW5kKkTE"
      }
    },
    {
      "cell_type": "code",
      "source": [
        "data_log_diff = data_log - data_log.shift()\n",
        "plt.plot(data_log_diff)"
      ],
      "metadata": {
        "id": "mHV4VimLu4am"
      },
      "execution_count": null,
      "outputs": []
    },
    {
      "cell_type": "markdown",
      "source": [
        "**PREGUNTAS**\n",
        "\n",
        "\n",
        "1.   ¿Qué observas en la serie resultante?\n",
        "2.   ¿Es esta serie estacionaria de acuerdo a los criterios anteriores? Incluye los resultados gráficos y del test estadístico e interprétalos.\n",
        "3. Repite el proceso para una segunda derivada. ¿Qué observas ahora?\n",
        "\n"
      ],
      "metadata": {
        "id": "kjy_rfvGTCLP"
      }
    },
    {
      "cell_type": "code",
      "source": [],
      "metadata": {
        "id": "ecU__lteurZg"
      },
      "execution_count": null,
      "outputs": []
    },
    {
      "cell_type": "markdown",
      "source": [
        "c) *Descomposición de la serie*:\n",
        "\n",
        "La mayoría de series pueden descomponerse en tendencia, estacionalidad y residuo, como hemos visto en clase. \n",
        "\n",
        "Utilizando la función *seasonal_decompose* del módulo de Python *statsmodels* podemos obtener estas tres componentes y por tanto, modelarlas por separado: "
      ],
      "metadata": {
        "id": "GbD_7_9kTgsA"
      }
    },
    {
      "cell_type": "code",
      "source": [
        "from statsmodels.tsa.seasonal import seasonal_decompose\n",
        "decomposition = seasonal_decompose(data_log)\n",
        "\n",
        "trend = decomposition.trend\n",
        "seasonal = decomposition.seasonal\n",
        "residual = decomposition.resid\n",
        "\n",
        "plt.subplot(411)\n",
        "plt.plot(data_log, label='Original')\n",
        "plt.legend(loc='best')\n",
        "plt.subplot(412)\n",
        "plt.plot(trend, label='Trend')\n",
        "plt.legend(loc='best')\n",
        "plt.subplot(413)\n",
        "plt.plot(seasonal,label='Seasonality')\n",
        "plt.legend(loc='best')\n",
        "plt.subplot(414)\n",
        "plt.plot(residual, label='Residuals')\n",
        "plt.legend(loc='best')\n",
        "plt.tight_layout()"
      ],
      "metadata": {
        "id": "jYYo_O63wnRp"
      },
      "execution_count": null,
      "outputs": []
    },
    {
      "cell_type": "markdown",
      "source": [
        "**PREGUNTAS**\n",
        "\n",
        "1.   ¿Es la señal residual estacionaria? Realiza el test y comenta los resultados.\n",
        "\n"
      ],
      "metadata": {
        "id": "S1lI2NvpVAen"
      }
    },
    {
      "cell_type": "code",
      "source": [],
      "metadata": {
        "id": "XJbqwVOuyU9V"
      },
      "execution_count": null,
      "outputs": []
    },
    {
      "cell_type": "markdown",
      "source": [
        "## 1.5. Modelado ARIMA y predicción"
      ],
      "metadata": {
        "id": "6OQtuBOeXv9d"
      }
    },
    {
      "cell_type": "markdown",
      "source": [
        "Uno de los modelos clásicos para series temporales vistos en clase es el modelo ARIMA, que permite derivar *d* veces, y aplicar *p* coeficientes autorregresivos (AR) y *q* términos de error (shocks, provenientes de la parte MA) en la combinación lineal.  \n",
        "\n",
        "Para determinar el valor de los parámetros *p* y *q*, podemos hacer uso de las funciones de autocorrelación (ACF) y autocorrelación parcial (PACF). \n",
        "\n",
        "Si calculamos dichas funciones para la serie derivada previamente, obtenemos lo siguiente:"
      ],
      "metadata": {
        "id": "-HmhcOJ6YTPG"
      }
    },
    {
      "cell_type": "code",
      "source": [
        "#ACF and PACF plots:\n",
        "from statsmodels.tsa.stattools import acf, pacf\n",
        "lag_acf = acf(data_log_diff, nlags=20, fft=False)\n",
        "lag_pacf = pacf(data_log_diff, nlags=20, method='ols')\n",
        "\n",
        "#Plot ACF: \n",
        "plt.subplot(121) \n",
        "plt.stem(lag_acf,use_line_collection=True)\n",
        "plt.title('Autocorrelation Function')\n",
        "\n",
        "#Plot PACF:\n",
        "plt.subplot(122)\n",
        "plt.stem(lag_pacf,use_line_collection=True)\n",
        "plt.title('Partial Autocorrelation Function')"
      ],
      "metadata": {
        "id": "RoyRtephyr45"
      },
      "execution_count": null,
      "outputs": []
    },
    {
      "cell_type": "markdown",
      "source": [
        "Podemos añadir además un intervalo de confianza a ambos lados del valor cero, de tal manera que el primer valor de retardo que cruce ese intervalo por arriba en la función de PACF será el valor de *p*, y de ACF, será *q*.\n",
        "\n",
        "Para los niveles de confianza estándar, el valor del límite del intervalo de confianza al 95% es 1.96. Suponiendo desviación estándar unidad, el límite estaría en (-1.96/sqrt(N), 1.96/sqrt(N)), donde N es el número de puntos. \n",
        "\n",
        "Si incluimos estos límites en la figura anterior, podemos obtener una buena aproximación de los valores de *p* y *q* para el modelo ARIMA:"
      ],
      "metadata": {
        "id": "M36x1qL5gICJ"
      }
    },
    {
      "cell_type": "code",
      "source": [
        "#Plot ACF: \n",
        "plt.subplot(121) \n",
        "plt.stem(lag_acf,use_line_collection=True)\n",
        "plt.axhline(y=0,linestyle='--',color='gray')\n",
        "plt.axhline(y=-1.96/np.sqrt(len(data_log_diff)),linestyle='--',color='gray')\n",
        "plt.axhline(y=1.96/np.sqrt(len(data_log_diff)),linestyle='--',color='gray')\n",
        "plt.title('Autocorrelation Function')\n",
        "\n",
        "#Plot PACF:\n",
        "plt.subplot(122)\n",
        "plt.stem(lag_pacf,use_line_collection=True)\n",
        "plt.axhline(y=0,linestyle='--',color='gray')\n",
        "plt.axhline(y=-1.96/np.sqrt(len(data_log_diff)),linestyle='--',color='gray')\n",
        "plt.axhline(y=1.96/np.sqrt(len(data_log_diff)),linestyle='--',color='gray')\n",
        "plt.title('Partial Autocorrelation Function')\n",
        "plt.tight_layout()"
      ],
      "metadata": {
        "id": "1aHep2VDZtc6"
      },
      "execution_count": null,
      "outputs": []
    },
    {
      "cell_type": "markdown",
      "source": [
        "**PREGUNTAS**\n",
        "\n",
        "\n",
        "1.   ¿Qué valores de *p* y *q* utilizarías para un primer modelo ARIMA de acuerdo a las representaciones anteriores?\n",
        "\n"
      ],
      "metadata": {
        "id": "OMSvJdrefZ2O"
      }
    },
    {
      "cell_type": "markdown",
      "source": [
        "Una vez elegidos los valores de *p* y *q*, podemos utilizar también la derivación interna de la clase ARIMA (*d*) o aplicarlo sobre la serie previamente derivada con valor de *d=0*. \n",
        "\n",
        "A continuación, importamos el modelo ARIMA de la siguiente manera. \n",
        "\n",
        "Este modelo tiene como argumentos los datos, y el orden: \n",
        "\n",
        "model = ARIMA(datos, order = (p,d,q))"
      ],
      "metadata": {
        "id": "bh9gCU2fjd0_"
      }
    },
    {
      "cell_type": "code",
      "source": [
        "from statsmodels.tsa.arima_model import ARIMA\n"
      ],
      "metadata": {
        "id": "iClhmdANp6OW"
      },
      "execution_count": null,
      "outputs": []
    },
    {
      "cell_type": "markdown",
      "source": [
        "**PREGUNTAS**\n",
        "\n",
        "\n",
        "1.   A continuación, completa los valores de p, d y q y utiliza el siguiente código para ajustar un modelo tipo AR. Incluye el resultado en el informe de la práctica así como los valores elegidos. ¿Qué error de ajuste (RSS) se obtiene?\n",
        "\n",
        "2.    Repite el código con los valores de los parámetros correspondientes para ajustar un modelo MA. Incluye el resultado en el informe de la práctica así como los valores elegidos. ¿Qué error de ajuste (RSS) se obtiene?\n",
        "\n",
        "3.    Repite nuevamente el código para combinar los modelos anteriores (ARMA). Incluye el resultado en el informe de la práctica así como los valores elegidos. ¿Qué error de ajuste (RSS) se obtiene?\n",
        "\n",
        "4.   De acuerdo a los valores de RSS, ¿cuál dirías que es el modelo que mejor se ajusta a los datos?"
      ],
      "metadata": {
        "id": "bF74LVSxkX90"
      }
    },
    {
      "cell_type": "code",
      "source": [
        "p = \n",
        "d = \n",
        "q = \n",
        "\n",
        "# AR\n",
        "model = ARIMA(data_log, order=(p, d, q))  \n",
        "results_AR = model.fit(disp=-1)  \n",
        "plt.plot(data_log_diff)\n",
        "plt.plot(results_AR.fittedvalues, color='red')\n",
        "plt.title('RSS: %.4f'% sum((results_AR.fittedvalues-data_log_diff)**2)) \n",
        "# RSS: Residual sum of squares"
      ],
      "metadata": {
        "id": "5TfO5rEip_8C"
      },
      "execution_count": null,
      "outputs": []
    },
    {
      "cell_type": "markdown",
      "source": [
        "Por último, para predecir valores en el espacio original, tenemos que deshacer las transformaciones realizadas hasta el momento. \n",
        "\n",
        "Primero, tomamos los valores ajustados por el modelo (predicciones) y los guardamos como serie temporal. \n",
        "\n",
        "Estos valores empiezan en el segundo mes, puesto que hemos tomado diferencias (derivada) de orden 1."
      ],
      "metadata": {
        "id": "UpgJndDtmpVK"
      }
    },
    {
      "cell_type": "code",
      "source": [
        "# Predicciones en el espacio original\n",
        "predictions_ARIMA_diff = pd.Series(results_ARIMA.fittedvalues, copy=True)\n",
        "print(predictions_ARIMA_diff.head())\n"
      ],
      "metadata": {
        "id": "oCCBVxe_q3kF"
      },
      "execution_count": null,
      "outputs": []
    },
    {
      "cell_type": "markdown",
      "source": [
        "Segundo, deshacemos la operación de diferencias (en escala logarítmica), con una suma acumulativa y añadiéndoles el valor \"base\" (primer elemento de la serie). "
      ],
      "metadata": {
        "id": "dK83jMgLqgK4"
      }
    },
    {
      "cell_type": "code",
      "source": [
        "predictions_ARIMA_diff_cumsum = predictions_ARIMA_diff.cumsum()\n",
        "print(predictions_ARIMA_diff_cumsum.head())"
      ],
      "metadata": {
        "id": "v3hJDXb3rfbI"
      },
      "execution_count": null,
      "outputs": []
    },
    {
      "cell_type": "code",
      "source": [
        "predictions_ARIMA_log = pd.Series(data_log[0], index=data_log.index)\n",
        "predictions_ARIMA_log = predictions_ARIMA_log.add(predictions_ARIMA_diff_cumsum,fill_value=0)\n",
        "print(predictions_ARIMA_log.head())"
      ],
      "metadata": {
        "id": "dm82q7Y_rpQw"
      },
      "execution_count": null,
      "outputs": []
    },
    {
      "cell_type": "markdown",
      "source": [
        "Finalmente, aplicamos la función exponencial (inversa del logaritmo).\n",
        "\n",
        "Podemos calcular el error cuadrático medio en el espacio original. "
      ],
      "metadata": {
        "id": "DfYwIxeXrYtE"
      }
    },
    {
      "cell_type": "code",
      "source": [
        "predictions_ARIMA = np.exp(predictions_ARIMA_log)\n",
        "plt.plot(data)\n",
        "plt.plot(predictions_ARIMA)\n",
        "plt.title('RMSE: %.4f'% np.sqrt(sum((predictions_ARIMA-data)**2)/len(data)))"
      ],
      "metadata": {
        "id": "DUJmWWwbr9Lb"
      },
      "execution_count": null,
      "outputs": []
    },
    {
      "cell_type": "markdown",
      "source": [
        "# 2. Aplicación a otros datos: Acciones en bolsa S&P 500 stock data\n"
      ],
      "metadata": {
        "id": "BERbxBGjzYet"
      }
    },
    {
      "cell_type": "markdown",
      "source": [
        "Vamos a cargar ahora los datos sobre las acciones en bolsa del fichero *stocks_1yr.csv*:"
      ],
      "metadata": {
        "id": "1lKweIQ2tsNo"
      }
    },
    {
      "cell_type": "code",
      "source": [
        "from google.colab import files\n",
        "uploaded = files.upload()"
      ],
      "metadata": {
        "id": "PaD9mqVvSSD2"
      },
      "execution_count": null,
      "outputs": []
    },
    {
      "cell_type": "markdown",
      "source": [
        "Esta base de datos contiene los datos para las acciones (*stocks*) de un año, y por columnas, contiene los siguientes campos: \n",
        "\n",
        "\n",
        "* Date - en formato: yy-mm-dd\n",
        "\n",
        "* Open - precio de la acción en la apertura de la bolsa\n",
        "\n",
        "* High - precio más alto alcanzado en el día\n",
        "\n",
        "* Low Close - precio más bajo en el día\n",
        "\n",
        "* Volume - Número de acciones vendidas/compradas\n",
        "\n",
        "* Name - Nombre de la compañía"
      ],
      "metadata": {
        "id": "3oIpeuIwuD7S"
      }
    },
    {
      "cell_type": "code",
      "source": [
        "from pandas import read_csv\n",
        "from pandas import datetime\n",
        "from matplotlib import pyplot\n",
        " \n",
        "def parser(x):\n",
        "\treturn datetime.strptime(x, '%Y-%m-%d')\n",
        " \n",
        "data = read_csv('stocks_1yr.csv', header=0, parse_dates=[0], index_col=0, squeeze=True, date_parser=parser)\n",
        "print(data.head())"
      ],
      "metadata": {
        "id": "Cv38eVEPwiKP"
      },
      "execution_count": null,
      "outputs": []
    },
    {
      "cell_type": "code",
      "source": [
        "from matplotlib import pyplot as plt\n",
        "plt.plot(data.high)"
      ],
      "metadata": {
        "id": "KavailWEwi8o"
      },
      "execution_count": null,
      "outputs": []
    },
    {
      "cell_type": "markdown",
      "source": [
        "**PREGUNTAS**\n",
        "\n",
        "Utilizando las herramientas del apartado 1, realiza el análisis de esta serie (puedes utilizar un intervalo de ella o la serie completa). \n",
        "\n",
        "En concreto:\n",
        "1.   Analiza la estacionariedad de esta serie. \n",
        "2.   ¿Qué transformaciones puedes realizar para hacerla más estacionaria? Prueba algunas y justifica si consigues una serie más estacionaria. \n",
        "3.   Ajusta un modelo ARIMA, y calcula el error de predicción. \n",
        "\n"
      ],
      "metadata": {
        "id": "r1GlXrpktZPF"
      }
    },
    {
      "cell_type": "code",
      "source": [
        "#### CÓDIGO AQUÍ ####"
      ],
      "metadata": {
        "id": "LkWqOqSDt_1f"
      },
      "execution_count": null,
      "outputs": []
    }
  ]
}